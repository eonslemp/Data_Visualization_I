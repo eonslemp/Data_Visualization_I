{
 "cells": [
  {
   "cell_type": "markdown",
   "metadata": {},
   "source": [
    "# Data Visualization Part I\n",
    "\n",
    "![](https://media.giphy.com/media/3og0IExSrnfW2kUaaI/giphy.gif)"
   ]
  },
  {
   "cell_type": "markdown",
   "metadata": {},
   "source": [
    "### Lesson Objectives:\n",
    "\n",
    "By the end of this lesson students will be able to:\n",
    "\n",
    "- Understand the importance of data visualization\n",
    "- Understand how data visualization fits within the CRISP-DM Model and the EDA process\n",
    "- Know **when to use** and **how to produce** the following graphs:\n",
    "    - Line\n",
    "    - Histogram\n",
    "    - Bar\n",
    "    - Scatterplot\n",
    "    - Box and Whisker/Violin plots"
   ]
  },
  {
   "cell_type": "markdown",
   "metadata": {},
   "source": [
    "## Activity\n",
    "\n",
    "Read the article [Why is Data Visualization Important?  What is Important in Data Visualization](https://hdsr.mitpress.mit.edu/pub/zok97i7p/release/2) in your group and discuss the following questions:\n",
    "\n",
    "1. What is data visualization useful for?\n",
    "2. In what ways does the intended audience change what or how we produce data visualizations?\n",
    "3. When choosing our type of graphic what are the advantages/disadvantages of choosing well known visualizations vs new and exciting visualizations?\n"
   ]
  },
  {
   "cell_type": "markdown",
   "metadata": {},
   "source": [
    "### How does data visualization fit into the data science process?\n",
    "\n",
    "Remember this CRISP-DM Model?\n",
    "\n",
    "<img src='https://storage.ning.com/topology/rest/1.0/file/get/2808314343?profile=RESIZE_480x480' width='400'>\n",
    "\n",
    "### Exploratory vs Explanatory Analysis\n",
    "\n",
    "While data visualization can be used throughout many of the CRISP-DM steps it is most commonly used as part of __Exploratory Data Analysis (EDA)__ in the data understanding step or as a way to __explain__ the results your models.  Another goal of data visualization could be to create an interactive display of results as an end product. \n",
    "\n",
    "#### Exploratory Analysis Goals:\n",
    "\n",
    "- Identify outliers\n",
    "- Identify data that needs transformation\n",
    "- Generate ideas for modeling\n",
    "- Assessing assumptions underlying models\n",
    "- Support the selection of appropriate techniques\n",
    "\n",
    "\n",
    "\n",
    "\n",
    "#### Explanatory Analysis Goals:\n",
    "\n",
    "- Explain key factors in a prediction\n",
    "- Explain how the results of your analysis\n",
    "- Provide easily interpretation of how your model works\n",
    "\n",
    "## _Data Visualization helps tell your \"Story\"_"
   ]
  },
  {
   "cell_type": "markdown",
   "metadata": {},
   "source": [
    "## Why Visualize Data?\n",
    "or why can’t we just hand someone a table of data?"
   ]
  },
  {
   "cell_type": "markdown",
   "metadata": {},
   "source": [
    "Let's load up the iris data set.  This is a famous built-in dataset which is used to learn about categorization. There is a lot of code in the cell below which will become much more familiar as we proceed through the course.  For now, just take a glance, but don't worry if it doesn't make sense yet."
   ]
  },
  {
   "cell_type": "code",
   "execution_count": null,
   "metadata": {},
   "outputs": [],
   "source": [
    "# One of several libraries you will get real used to importing. \n",
    "# https://matplotlib.org/3.1.1/index.html\n",
    "import matplotlib.pyplot as plt\n",
    "%load_ext autoreload\n",
    "%autoreload 2\n",
    "# Importing the iris dataset from sklearn\n",
    "from sklearn.datasets import load_iris\n",
    "import pandas as pd\n",
    "\n",
    "#creating a dataframe of the iris dataset\n",
    "data = load_iris()\n",
    "df_iris = pd.DataFrame(data['data'], columns=data['feature_names'])\n",
    "df_iris['target'] = data['target']"
   ]
  },
  {
   "cell_type": "code",
   "execution_count": null,
   "metadata": {},
   "outputs": [],
   "source": []
  },
  {
   "cell_type": "markdown",
   "metadata": {},
   "source": [
    "Here is an image of one of the virginica iris, which is unique in its relative petal and sepal length."
   ]
  },
  {
   "cell_type": "markdown",
   "metadata": {},
   "source": [
    "![virginica_iris](iris_virginica.jpg)"
   ]
  },
  {
   "cell_type": "markdown",
   "metadata": {},
   "source": [
    "### Dataframe vs Graph: Which do you prefer?"
   ]
  },
  {
   "cell_type": "markdown",
   "metadata": {},
   "source": [
    "As data scientists, you will look at dataframes everyday.  You will learn how to inspect different aspects of them with the methods associated with the dataframe object.  For example, to get a quick idea of the type of data, we can use the .sample() method."
   ]
  },
  {
   "cell_type": "code",
   "execution_count": null,
   "metadata": {},
   "outputs": [],
   "source": [
    "# I like to use sample rather than head because it gives me a better idea of the distribution of observations\n",
    "df_iris.sample(5)"
   ]
  },
  {
   "cell_type": "markdown",
   "metadata": {},
   "source": [
    "One skill you will develop is the ability to quickly generate visualizations after getting a general sense of the dataframe contents.  Let's plot two of the columns above, sepal length vs petal length. With a glance, we can see new patterns in the data. "
   ]
  },
  {
   "cell_type": "code",
   "execution_count": null,
   "metadata": {},
   "outputs": [],
   "source": [
    "fig, ax = plt.subplots(figsize=(8, 5))\n",
    "\n",
    "# Iterate through each type of flower and plot them using different colors\n",
    "for flower in df_iris['target'].unique():\n",
    "    subset_df = df_iris[df_iris['target'] == flower]\n",
    "    x = subset_df['sepal length (cm)']\n",
    "    y = subset_df['petal length (cm)']\n",
    "    \n",
    "    ax.scatter(x, y, label=data['target_names'][flower])\n",
    "\n",
    "# Label your axes!\n",
    "ax.set_ylabel('petal length (cm)')\n",
    "ax.set_xlabel('sepal length (cm)')\n",
    "ax.set_title('Petal length vs Sepal Length for Three Species of Flowers')\n",
    "ax.legend();"
   ]
  },
  {
   "cell_type": "markdown",
   "metadata": {},
   "source": [
    "What information in this graph jumps out to you?"
   ]
  },
  {
   "cell_type": "code",
   "execution_count": null,
   "metadata": {},
   "outputs": [],
   "source": [
    "# your thoughts here"
   ]
  },
  {
   "cell_type": "markdown",
   "metadata": {},
   "source": [
    "In your **presentation decks**, you will no doubt be tempted to print out the head of a data frame, take a screen shot, and plop it in the middle of a slide.  We all have that instinct; the dataframe object will become one your most cherished objects. If you put them in your deck, you will no doubt hear one of us gently request its replacement with some other figure."
   ]
  },
  {
   "cell_type": "markdown",
   "metadata": {},
   "source": [
    "### Anscombe's Quartet --- A Reason for Data Visualization"
   ]
  },
  {
   "cell_type": "code",
   "execution_count": null,
   "metadata": {
    "scrolled": true
   },
   "outputs": [],
   "source": [
    "# Load the example dataset for Anscombe's quartet\n",
    "import seaborn as sns\n",
    "df = sns.load_dataset(\"anscombe\")\n",
    "df"
   ]
  },
  {
   "cell_type": "code",
   "execution_count": null,
   "metadata": {},
   "outputs": [],
   "source": [
    "# use groupby, get the mean and variance of each data set\n",
    "df.groupby(['dataset']).agg(['mean','var'])"
   ]
  },
  {
   "cell_type": "code",
   "execution_count": null,
   "metadata": {},
   "outputs": [],
   "source": [
    "# we can also examine the correlation between the dataset\n",
    "df.groupby(['dataset']).corr()"
   ]
  },
  {
   "cell_type": "code",
   "execution_count": null,
   "metadata": {},
   "outputs": [],
   "source": [
    "sns.set(style=\"ticks\")\n",
    "\n",
    "# Show the results of a linear regression within each dataset\n",
    "sns.lmplot(x=\"x\", y=\"y\", col=\"dataset\", hue=\"dataset\", data=df,\n",
    "           col_wrap=2, ci=None, palette=\"muted\", height=4,\n",
    "           scatter_kws={\"s\": 50, \"alpha\": 1})"
   ]
  },
  {
   "cell_type": "markdown",
   "metadata": {},
   "source": [
    "Also check out [Datasuarus Dozen](https://www.autodeskresearch.com/publications/samestats) "
   ]
  },
  {
   "cell_type": "markdown",
   "metadata": {},
   "source": [
    "## The Effectiveness of Visualizations\n",
    "\n",
    "- People are **highly visual** and can synthesize visual information such more quickly than rows and columns of numbers \n",
    "- **Precognitive** understanding of the data\n",
    "- Visual representations can be much more **viscerally persuasive**"
   ]
  },
  {
   "cell_type": "markdown",
   "metadata": {},
   "source": [
    "## What Makes an Effective Visualization?\n",
    "\n",
    "- Each graph should have a **clear poin**t it is trying to make. Understanding the insight you are trying to convey will guide the decision making process for what kind of graph will be most effective.\n",
    "\n",
    "- Know your **audience**! Come up with a use case and audience to pitch your visualizations.  Not every visualization is good for every audience.  Is your audience technical?  Non-technical?\n",
    "\n",
    "- Choosing the correct graph for the **relationship** you are trying to communicate.  \n",
    "\n",
    "- **Label** your axes and title your graph! It should not be difficult for someone to understand what your graph is trying to represent\n",
    "\n",
    "- People have unconscious responses to visuals which will effect the way they interpret information. Good visualization makes use of these natural shortcuts in cognition to convey information more efficiently\n",
    "     - **Red** and Down tends to be negative while **Green** and Up is positive\n",
    "     - **Lighter hues** are seen as lower values and darker is higher values\n",
    "     - Axes should start at **zero**\n",
    "        \n",
    "__Note:__ All of these 'rules' can be broken but know that you will be working against most people's first instinct"
   ]
  },
  {
   "cell_type": "markdown",
   "metadata": {},
   "source": [
    "## How to Lie with Graphs\n",
    "\n",
    "- Graphs can be misleading\n",
    "- Consciously or unconsciously people will make decisions to lead people towards their conclusions of the data\n",
    "\n",
    "- Examples of dark patterns\n",
    "\n",
    "        - Changing the axis scale\n",
    "        - Using two different y axis scales to compare trends\n",
    "        - Showing cumulative data which will always be increasing to hide a downturn in a trend\n",
    "        - Pie charts (comparing degrees is not something people are good at) just use a bar chart\n",
    "        - Inconsistent units\n",
    "        - Not showing all of the data for motivated reasons\n",
    "        - Percentages not adding up to 100"
   ]
  },
  {
   "cell_type": "markdown",
   "metadata": {},
   "source": [
    "<img src=\"data/pie-chart-misleading.png\">\n",
    "\n",
    "image: http://flowingdata.com/2009/11/26/fox-news-makes-the-best-pie-chart-ever/\n",
    "\n",
    "_____\n",
    "\n",
    "\n",
    "\n",
    "<img src=\"data/usa-today-2.png\" width=600>"
   ]
  },
  {
   "cell_type": "markdown",
   "metadata": {},
   "source": [
    "# Matplotlib"
   ]
  },
  {
   "cell_type": "markdown",
   "metadata": {},
   "source": [
    "The matplotlib library will be our foundational visualization tool. Mastering it will allow you to create beautiful graphs quickly.  We can then include these graphs in our README's, final notebooks, and presentation decks. "
   ]
  },
  {
   "cell_type": "markdown",
   "metadata": {},
   "source": [
    "<img src=\"data/matplotlib_anatomy.png\">"
   ]
  },
  {
   "cell_type": "markdown",
   "metadata": {},
   "source": [
    "Explanation of non-obvious terms\n",
    "\n",
    "__Figure__ - This is the sheet of paper all of your graphing sits on. \n",
    "\n",
    "__Axis__ - An axis is an individual plot. You can have multiple axes on one figure\n",
    "\n",
    "__Major/Minor Ticks__ - The large and small dashes on the x and y axis\n",
    "\n",
    "__Markers__ - In a scatter plot each of the points is refered to as a marker\n",
    "\n",
    "__Spines__ - The lines that bound each axis"
   ]
  },
  {
   "cell_type": "markdown",
   "metadata": {},
   "source": [
    "# Common Charts and Their Uses"
   ]
  },
  {
   "cell_type": "markdown",
   "metadata": {},
   "source": [
    "## Line Graph"
   ]
  },
  {
   "cell_type": "markdown",
   "metadata": {},
   "source": [
    "Line graphs are used to track changes of a **single variable** over short and long **periods of time**. When smaller changes exist, line graphs are better to use than bar graphs. They will become especially useful when we look into time series.\n",
    "\n",
    "#### Let's build a line graph to show the change in average temperature over time"
   ]
  },
  {
   "cell_type": "code",
   "execution_count": null,
   "metadata": {},
   "outputs": [],
   "source": [
    "import matplotlib.pyplot as plt\n",
    "import numpy as np"
   ]
  },
  {
   "cell_type": "code",
   "execution_count": null,
   "metadata": {},
   "outputs": [],
   "source": [
    "### Create a fake data set\n",
    "rng = np.arange(50)\n",
    "temp = np.random.randint(65, 110, size=(rng.size))\n",
    "temp=np.sort(temp)\n",
    "yrs = 1950 + rng"
   ]
  },
  {
   "cell_type": "code",
   "execution_count": null,
   "metadata": {},
   "outputs": [],
   "source": [
    "temp"
   ]
  },
  {
   "cell_type": "code",
   "execution_count": null,
   "metadata": {},
   "outputs": [],
   "source": [
    "yrs"
   ]
  },
  {
   "cell_type": "markdown",
   "metadata": {},
   "source": [
    "#### Plotting Syntax\n",
    "\n",
    "There are many different ways to create plots but we will strongly suggest using the subplots method\n",
    "   - fig, ax = plt.subplots()\n",
    "   - fig, (ax_1, ax_2) = plt.subplots(1,2)\n",
    "\n",
    "- This is useful for extensibility\n",
    "- Gives you access to the figure and individual axis in a plot\n",
    "- More fine grained control of customizing your plot\n",
    "- Easily create additional axis on your figure\n",
    "- This syntax is a good level of abstraction\n",
    "    - You can go deeper into the api but this should give you immediate access to most tools you will need for whatever plot you are making\n",
    "- Flatiron Specific\n",
    "    - Plotting code will be more easily readable for other students and instructors\n",
    "    - You don’t need to remember many different ways to organize your code\n",
    "    \n",
    "Here are links to the [matplotlib documentation](https://matplotlib.org/index.html) as well as the [Axes object documentation](https://matplotlib.org/api/axes_api.html):"
   ]
  },
  {
   "cell_type": "code",
   "execution_count": null,
   "metadata": {},
   "outputs": [],
   "source": [
    "# Initalize a Figure and Axes\n",
    "fig, ax = plt.subplots()\n",
    "\n",
    "# Plot the data variable in blue\n",
    "ax.plot( yrs, temp,color='b')\n",
    "\n",
    "plt.show()"
   ]
  },
  {
   "cell_type": "markdown",
   "metadata": {},
   "source": [
    "## Bar Chart\n",
    "\n",
    "Bar graphs are used to **compare a variable between different groups/categories**. Sometimes they are used to measure change over time, but that is often when you think of a time period as a group, like decades, and changes between those groups are quite large.  \n",
    "\n",
    "Often people avoid using bar charts because they are **common**.  This is a mistake!  We should often use bar charts because they are common and require less effort of your audience to understand them!\n",
    "\n",
    "#### Let's create a Bar chart to compare the average height of males and females"
   ]
  },
  {
   "cell_type": "code",
   "execution_count": null,
   "metadata": {},
   "outputs": [],
   "source": [
    "import pandas as pd\n",
    "\n",
    "data = pd.read_csv('./data/weight-height.csv', index_col=False)"
   ]
  },
  {
   "cell_type": "code",
   "execution_count": null,
   "metadata": {},
   "outputs": [],
   "source": [
    "males = data[data['Gender'] == 'Male']\n",
    "females = data[data['Gender'] == 'Female']"
   ]
  },
  {
   "cell_type": "code",
   "execution_count": null,
   "metadata": {},
   "outputs": [],
   "source": [
    "females.head()"
   ]
  },
  {
   "cell_type": "code",
   "execution_count": null,
   "metadata": {},
   "outputs": [],
   "source": [
    "fig, ax = plt.subplots()\n",
    "\n",
    "# Plot a bar-chart of gold medals as a function of country\n",
    "ax.bar(['Males', 'Females'], [males['Height'].mean(), females['Height'].mean()])\n",
    "\n",
    "# Set the x-axis tick labels to the country names\n",
    "ax.set_xticklabels(['Males', 'Females'], rotation=90)\n",
    "\n",
    "# Set the y-axis label\n",
    "ax.set_ylabel(\"Height (cm)\")\n",
    "\n",
    "ax.set_title('Comparing Height by Gender')\n",
    "\n",
    "plt.show()"
   ]
  },
  {
   "cell_type": "markdown",
   "metadata": {},
   "source": [
    "### Your turn!\n",
    "\n",
    "With your group, create a bar chart of the average weight by gender."
   ]
  },
  {
   "cell_type": "code",
   "execution_count": null,
   "metadata": {},
   "outputs": [],
   "source": [
    "# your code here"
   ]
  },
  {
   "cell_type": "markdown",
   "metadata": {},
   "source": [
    "## Box Plot\n",
    "\n",
    "A box and whisker plot—also called a box plot—displays the five-number summary of **a single variable**.  This plot helps us see the **distribution of a continuous variable**. The five-number summary is the minimum, first quartile, median, third quartile, and maximum.\n",
    "In a box plot, we draw a box from the first quartile to the third quartile. A vertical line goes through the box at the median. The whiskers go from each quartile to the minimum or maximum.\n",
    "\n",
    "<img src=\"https://www150.statcan.gc.ca/n1/edu/power-pouvoir/ch12/img/5214889_01-eng.gif\" alt=\"boxplot\" title=\"Box Plot\" width=\"550\" />\n",
    "\n",
    "\n",
    "\n"
   ]
  },
  {
   "cell_type": "markdown",
   "metadata": {},
   "source": [
    "#### Let's create a box plot to examine the height of males and females."
   ]
  },
  {
   "cell_type": "code",
   "execution_count": null,
   "metadata": {},
   "outputs": [],
   "source": [
    "fig, ax = plt.subplots()\n",
    "\n",
    "# Add a boxplot for the \"Height\" column in the DataFrames\n",
    "ax.boxplot([males['Height'], females['Height']])\n",
    "\n",
    "# Add x-axis tick labels:\n",
    "ax.set_xticklabels(['Males', \"Females\"])\n",
    "\n",
    "# Add a y-axis label\n",
    "ax.set_ylabel(\"Height (cm)\")\n",
    "\n",
    "plt.show()"
   ]
  },
  {
   "cell_type": "markdown",
   "metadata": {},
   "source": [
    "### Your turn!\n",
    "\n",
    "With your group, create a box plot of the average weight by gender."
   ]
  },
  {
   "cell_type": "code",
   "execution_count": null,
   "metadata": {},
   "outputs": [],
   "source": [
    "# your code here"
   ]
  },
  {
   "cell_type": "markdown",
   "metadata": {},
   "source": [
    "## Violin Plots\n",
    "\n",
    "Violin plots are similar to box plots, except that they also show the **probability density** of the data at different values."
   ]
  },
  {
   "cell_type": "code",
   "execution_count": null,
   "metadata": {},
   "outputs": [],
   "source": [
    "fig, ax = plt.subplots()\n",
    "\n",
    "# Add a boxplot for the \"Height\" column in the DataFrames\n",
    "ax.violinplot([males['Height'], females['Height']])\n",
    "\n",
    "# Add x-axis tick labels:\n",
    "ax.get_xaxis().set_tick_params(direction='out')\n",
    "ax.xaxis.set_ticks_position('bottom')\n",
    "ax.set_xticks(np.arange(1, 2 + 1))\n",
    "ax.set_xticklabels(['Males', \"Females\"])\n",
    "\n",
    "# Add a y-axis label\n",
    "ax.set_ylabel(\"Height (cm)\")\n",
    "\n",
    "plt.show()"
   ]
  },
  {
   "cell_type": "markdown",
   "metadata": {},
   "source": [
    "### Question:\n",
    "\n",
    "Does it make sense to make a box plot or violin plot of a categorical variable?  Why or why not?"
   ]
  },
  {
   "cell_type": "markdown",
   "metadata": {},
   "source": [
    "## Histogram\n",
    "\n",
    "A histogram is a plot that lets you discover the **underlying frequency distribution (shape) of a set of continuous data**. This allows the inspection of the data for its underlying distribution (e.g., normal distribution), outliers, skewness, etc. The height of each bar shows the quantity in each range.\n",
    "\n",
    "(Similar to a Bar Graph, **but in a Histogram each bar is for a range of data.**)\n",
    "\n",
    "<img src=\"https://statistics.laerd.com/statistical-guides/img/histogram-1.png\" alt=\"viz\" title=\"Histogram\" width=\"350\" />"
   ]
  },
  {
   "cell_type": "markdown",
   "metadata": {},
   "source": [
    "**How do you construct a histogram from a continuous variable?**\n",
    "\n",
    "To construct a histogram from a continuous variable you first need to split the data into intervals, called bins. In the example above, age has been split into bins, with each bin representing a 10-year period starting at 20 years. Each bin contains the number of occurrences of scores in the data set that are contained within that bin. For the above data set, the frequencies in each bin have been tabulated along with the scores that contributed to the frequency in each bin (see below):\n",
    "\n",
    "<img src=\"./images/binned.png\" alt=\"viz\" title=\"Histogram\" width=\"550\" />"
   ]
  },
  {
   "cell_type": "markdown",
   "metadata": {},
   "source": [
    "**Choosing the correct bin width**  \n",
    "\n",
    "There is no right or wrong answer for how wide we should define our bin size, but there are rules of thumb. You need to make sure that the bins are not too small or too large. Consider the histogram we produced earlier (see above): the following histograms use the same data, but have either much smaller or larger bins, as shown below:\n",
    "\n",
    "\n",
    "<img src=\"https://statistics.laerd.com/statistical-guides/img/histogram-4.png\" alt=\"viz\" title=\"Histogram\" width=\"550\" />\n"
   ]
  },
  {
   "cell_type": "markdown",
   "metadata": {},
   "source": [
    "#### Let's make a histogram for the height of females"
   ]
  },
  {
   "cell_type": "code",
   "execution_count": null,
   "metadata": {},
   "outputs": [],
   "source": [
    "fig, ax = plt.subplots()\n",
    "# Plot a histogram of height for females\n",
    "ax.hist(females['Height'])\n",
    "\n",
    "\n",
    "# Set the x-axis label to height (cm)\"\n",
    "ax.set_xlabel('Height (cm)')\n",
    "\n",
    "# Set the y-axis label to \"# of observations\"\n",
    "ax.set_ylabel('# of observations')\n",
    "\n",
    "ax.set_title('Historgam of height of Females')\n",
    "\n",
    "plt.show()"
   ]
  },
  {
   "cell_type": "markdown",
   "metadata": {},
   "source": [
    "#### Your turn! \n",
    "\n",
    "Make a histogram for the height of males"
   ]
  },
  {
   "cell_type": "code",
   "execution_count": null,
   "metadata": {},
   "outputs": [],
   "source": [
    "#your code here"
   ]
  },
  {
   "cell_type": "markdown",
   "metadata": {},
   "source": [
    "### Can we put both on the same plot?"
   ]
  },
  {
   "cell_type": "code",
   "execution_count": null,
   "metadata": {},
   "outputs": [],
   "source": [
    "fig, ax = plt.subplots()\n",
    "# Plot a histogram of height for females\n",
    "ax.hist(females['Height'])\n",
    "\n",
    "# Compare to histogram of height for males\n",
    "ax.hist(males['Height'])\n",
    "\n",
    "# Set the x-axis label to height (cm)\"\n",
    "ax.set_xlabel('Height (cm)')\n",
    "\n",
    "# Set the y-axis label to \"# of observations\"\n",
    "ax.set_ylabel('# of observations')\n",
    "\n",
    "ax.set_title('Historgam of height by Sex')\n",
    "\n",
    "plt.show()"
   ]
  },
  {
   "cell_type": "markdown",
   "metadata": {},
   "source": [
    "### Adding parameters to make data more clear"
   ]
  },
  {
   "cell_type": "code",
   "execution_count": null,
   "metadata": {},
   "outputs": [],
   "source": [
    "fig, ax = plt.subplots()\n",
    "# Plot a histogram of height of females with 15 bins\n",
    "ax.hist(females['Height'], label=\"Female\", bins=15, histtype='step')\n",
    "\n",
    "# Compare to histogram of height for males with 15 bins\n",
    "ax.hist(males['Height'], label=\"Male\", bins=15, histtype='step')\n",
    "\n",
    "# Set the x-axis label to \"Weight (kg)\"\n",
    "ax.set_xlabel('Height (cm)')\n",
    "\n",
    "# Set the y-axis label to \"# of observations\"\n",
    "ax.set_ylabel('# of observations')\n",
    "\n",
    "ax.set_title('Historgam of height by Sex')\n",
    "\n",
    "ax.legend()\n",
    "plt.show()\n"
   ]
  },
  {
   "cell_type": "markdown",
   "metadata": {},
   "source": [
    "### What is the difference between a bar chart and a histogram?\n",
    "\n",
    "The major difference is that a histogram is only used to **plot the frequency of score occurrences in a continuous data set** that has been divided into classes, called bins. On the other hand, bar charts can be used for a great deal of other types of variables including ordinal and nominal data sets. Additionally, in histograms we so not have spaces between the bars like we do in bar charts."
   ]
  },
  {
   "cell_type": "markdown",
   "metadata": {},
   "source": [
    "## Scatterplot\n",
    "\n",
    "Scatterplots, also referred to as an 'X-Y plot', are used to **show/determine relationships between the two different variables**. It compares the values of different variables across observations. \n",
    "\n",
    "The x-axis is used to measure one event (or variable) and the y-axis is used to measure the other. If both variables increase at the same time, they have a positive relationship. If one variable decreases while the other increases, they have a negative relationship. Sometimes the variables don't follow any pattern and have no relationship."
   ]
  },
  {
   "cell_type": "markdown",
   "metadata": {},
   "source": [
    "<img src=\"https://python-graph-gallery.com/wp-content/uploads/130_Basic_Matplotlib_Scatterplot.png\" width=\"550\" />"
   ]
  },
  {
   "cell_type": "markdown",
   "metadata": {},
   "source": [
    "### Let's create a scatterplot of height vs weight"
   ]
  },
  {
   "cell_type": "code",
   "execution_count": null,
   "metadata": {},
   "outputs": [],
   "source": [
    "fig, ax = plt.subplots()\n",
    "\n",
    "# Add data: \"height\", \"weight\" as x-y, index as color\n",
    "ax.scatter(data[\"Height\"], data[\"Weight\"])\n",
    "\n",
    "# Set the x-axis label to height (cm)\"\n",
    "ax.set_xlabel(\"Height (cm)\")\n",
    "\n",
    "# Set the y-axis label weight (lbs)\n",
    "ax.set_ylabel(\"Weight (lbs)\")\n",
    "\n",
    "ax.set_title('Relationship between height and weight')\n",
    "\n",
    "\n",
    "plt.show()"
   ]
  },
  {
   "cell_type": "markdown",
   "metadata": {},
   "source": [
    "### Now let's change the color of the data by gender"
   ]
  },
  {
   "cell_type": "code",
   "execution_count": null,
   "metadata": {},
   "outputs": [],
   "source": [
    "fig, ax = plt.subplots()\n",
    "\n",
    "# Add data: \"height\", \"weight\" as x-y, index as color\n",
    "ax.scatter(males[\"Height\"], males[\"Weight\"],label='Males', color ='r' )\n",
    "\n",
    "ax.scatter(females[\"Height\"], females[\"Weight\"], label='Females',color ='b' )\n",
    "\n",
    "# Set the x-axis label to \"Height (cm)\"\n",
    "ax.set_xlabel(\"Height (cm)\")\n",
    "\n",
    "# Set the y-axis label to \"Weight (lbs)\"\n",
    "ax.set_ylabel(\"Weight (lbs)\")\n",
    "\n",
    "ax.set_title('Relationship between height and weight')\n",
    "\n",
    "ax.legend()\n",
    "plt.show()"
   ]
  },
  {
   "cell_type": "markdown",
   "metadata": {},
   "source": [
    "### Your turn!\n",
    "\n",
    "Using the `candy.csv` dataset complete the following:\n",
    "- import data into pandas\n",
    "- create a scatterplot of sugar percent vs price percent\n",
    "    - make sure to include axes labels and a title\n",
    "- color code the data by if the candy is chocolate or not"
   ]
  },
  {
   "cell_type": "code",
   "execution_count": null,
   "metadata": {},
   "outputs": [],
   "source": [
    "candy = pd.read_csv('./data/candy.csv')\n",
    "candy"
   ]
  },
  {
   "cell_type": "code",
   "execution_count": null,
   "metadata": {},
   "outputs": [],
   "source": [
    "#your code here"
   ]
  },
  {
   "cell_type": "markdown",
   "metadata": {},
   "source": [
    "![](https://python-graph-gallery.com/wp-content/uploads/Logo_PGG_full-3.jpg)\n",
    "For help on creating graphs check out the [Python Graph Gallery](https://python-graph-gallery.com/)"
   ]
  },
  {
   "cell_type": "markdown",
   "metadata": {},
   "source": [
    "![](https://media.giphy.com/media/XHVmD4RyXgSjd8aUMb/giphy.gif)"
   ]
  },
  {
   "cell_type": "code",
   "execution_count": null,
   "metadata": {},
   "outputs": [],
   "source": []
  }
 ],
 "metadata": {
  "kernelspec": {
   "display_name": "Python 3",
   "language": "python",
   "name": "python3"
  },
  "language_info": {
   "codemirror_mode": {
    "name": "ipython",
    "version": 3
   },
   "file_extension": ".py",
   "mimetype": "text/x-python",
   "name": "python",
   "nbconvert_exporter": "python",
   "pygments_lexer": "ipython3",
   "version": "3.7.3"
  }
 },
 "nbformat": 4,
 "nbformat_minor": 4
}
